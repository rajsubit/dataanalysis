{
 "cells": [
  {
   "cell_type": "code",
   "execution_count": 3,
   "metadata": {},
   "outputs": [
    {
     "name": "stdout",
     "output_type": "stream",
     "text": [
      "('enrollments', {u'status': u'canceled', u'is_udacity': u'True', u'is_canceled': u'True', u'join_date': u'2014-11-10', u'account_key': u'448', u'cancel_date': u'2015-01-14', u'days_to_cancel': u'65'})\n",
      "('engagement', {u'lessons_completed': u'0.0', u'num_courses_visited': u'1.0', u'total_minutes_visited': u'11.6793745', u'projects_completed': u'0.0', u'acct': u'0', u'utc_date': u'2015-01-09'})\n",
      "('submission', {u'lesson_key': u'3176718735', u'processing_state': u'EVALUATED', u'account_key': u'256', u'assigned_rating': u'UNGRADED', u'completion_date': u'2015-01-16', u'creation_date': u'2015-01-14'})\n"
     ]
    }
   ],
   "source": [
    "# Read data from csv and convert it to the list of dictionaries\n",
    "\n",
    "import unicodecsv\n",
    "\n",
    "enrollments_filename = 'enrollments.csv'\n",
    "engagement_filename = 'daily_engagement.csv'\n",
    "submissions_filename = 'project_submissions.csv'\n",
    "\n",
    "def read_csv(filename):\n",
    "    with open(filename, 'rb') as f:\n",
    "        reader = unicodecsv.DictReader(f)\n",
    "        return list(reader)\n",
    "    \n",
    "enrollments = read_csv(enrollments_filename)\n",
    "daily_engagement = read_csv(engagement_filename)\n",
    "project_submissions = read_csv(submissions_filename)\n",
    "\n",
    "print('enrollments', enrollments[0])\n",
    "print('engagement', daily_engagement[0])\n",
    "print('submission', project_submissions[0])"
   ]
  },
  {
   "cell_type": "code",
   "execution_count": 5,
   "metadata": {},
   "outputs": [
    {
     "name": "stdout",
     "output_type": "stream",
     "text": [
      "{u'status': u'canceled', u'is_udacity': True, u'is_canceled': True, u'join_date': datetime.date(2014, 11, 10), u'account_key': u'448', u'cancel_date': datetime.date(2015, 1, 14), u'days_to_cancel': 65}\n",
      "{u'lessons_completed': 0, u'num_courses_visited': 1, u'total_minutes_visited': 11.6793745, u'projects_completed': 0, u'acct': u'0', u'utc_date': datetime.date(2015, 1, 9)}\n",
      "{u'lesson_key': u'3176718735', u'processing_state': u'EVALUATED', u'account_key': u'256', u'assigned_rating': u'UNGRADED', u'completion_date': datetime.date(2015, 1, 16), u'creation_date': datetime.date(2015, 1, 14)}\n"
     ]
    },
    {
     "data": {
      "text/plain": [
       "'Average time to complete the project\\nComparison of daily join date and cancel date\\nDo students with longer daily engagement tend to complete the project\\nWhich time of year are students more likely to join and complete the project\\nLikelyhood of completing project after completing one lesson\\nmean:  2.86733668342\\nstandard deviation:  2.25519800292\\nmin:  0\\nmax:  7 '"
      ]
     },
     "execution_count": 5,
     "metadata": {},
     "output_type": "execute_result"
    }
   ],
   "source": [
    "# check if data is present in all rows and convert them to respective\n",
    "# data types\n",
    "\n",
    "import datetime as dt\n",
    "\n",
    "def parse_date(date):\n",
    "    if isinstance(date, dt.date):\n",
    "        return date\n",
    "    return dt.datetime.strptime(date, '%Y-%m-%d').date() if date != '' else None\n",
    "\n",
    "def parse_int(i):\n",
    "    if isinstance(i, int):\n",
    "        return i\n",
    "    return int(float(i)) if i != '' else ''\n",
    "\n",
    "def parse_bool(b):\n",
    "    if isinstance(b, bool):\n",
    "        return b\n",
    "    return b == 'True'\n",
    "\n",
    "def parse_float(f):\n",
    "    if isinstance(f, float):\n",
    "        return f\n",
    "    return float(f) if f != '' else ''\n",
    "\n",
    "for enr in enrollments:\n",
    "    enr['is_udacity'] = parse_bool(enr['is_udacity'])\n",
    "    enr['is_canceled'] = parse_bool(enr['is_canceled'])\n",
    "    enr['join_date'] = parse_date(enr['join_date'])\n",
    "    enr['cancel_date'] = parse_date(enr['cancel_date'])\n",
    "    enr['days_to_cancel'] = parse_int(enr['days_to_cancel'])\n",
    "    \n",
    "for eng in daily_engagement:\n",
    "    eng['lessons_completed'] = parse_int(eng['lessons_completed'])\n",
    "    eng['num_courses_visited'] = parse_int(eng['num_courses_visited'])\n",
    "    eng['total_minutes_visited'] = parse_float(eng['total_minutes_visited'])\n",
    "    eng['projects_completed'] = parse_int(eng['projects_completed'])\n",
    "    eng['utc_date'] = parse_date(eng['utc_date'])\n",
    "    \n",
    "for sub in project_submissions:\n",
    "    sub['completion_date'] = parse_date(sub['completion_date'])\n",
    "    sub['creation_date'] = parse_date(sub['creation_date'])\n",
    "    \n",
    "print(enrollments[0])\n",
    "print(daily_engagement[0])\n",
    "print(project_submissions[0])\n",
    "\n",
    "\n",
    "\"\"\"Average time to complete the project\n",
    "Comparison of daily join date and cancel date\n",
    "Do students with longer daily engagement tend to complete the project\n",
    "Which time of year are students more likely to join and complete the project\n",
    "Likelyhood of completing project after completing one lesson\n",
    "mean:  2.86733668342\n",
    "standard deviation:  2.25519800292\n",
    "min:  0\n",
    "max:  7 \"\"\"\n",
    "\n"
   ]
  },
  {
   "cell_type": "code",
   "execution_count": 6,
   "metadata": {},
   "outputs": [
    {
     "name": "stdout",
     "output_type": "stream",
     "text": [
      "0\n"
     ]
    }
   ],
   "source": [
    "# Make csv title or dictionary key consistent in all three csvs.\n",
    "# acct converted to account_key\n",
    "\n",
    "for eng in daily_engagement:\n",
    "    eng['account_key'] = eng['acct']\n",
    "    eng.pop('acct')\n",
    "print daily_engagement[0]['account_key']"
   ]
  },
  {
   "cell_type": "code",
   "execution_count": 7,
   "metadata": {},
   "outputs": [
    {
     "name": "stdout",
     "output_type": "stream",
     "text": [
      "('enrollments', 1640, 1302)\n",
      "('engagements', 136240, 1237)\n",
      "('submissions', 3642, 743)\n"
     ]
    }
   ],
   "source": [
    "# Find unique ids in all three csvs\n",
    "# Returns list of unique ids\n",
    "\n",
    "def row_and_unique_students(list_name):\n",
    "    unique_students = []\n",
    "    for item in list_name:\n",
    "        unique_students.append(item['account_key'])\n",
    "    return list(set(unique_students)), len(list_name)\n",
    "\n",
    "enrollment_unique_stds, enrollment_row = row_and_unique_students(enrollments)\n",
    "engagement_unique_stds, engagement_row = row_and_unique_students(daily_engagement)\n",
    "sub_unique_stds, sub_row = row_and_unique_students(project_submissions)\n",
    "\n",
    "print ('enrollments', enrollment_row, len(enrollment_unique_stds))\n",
    "print('engagements', engagement_row, len(engagement_unique_stds))\n",
    "print('submissions', sub_row, len(sub_unique_stds))"
   ]
  },
  {
   "cell_type": "code",
   "execution_count": 8,
   "metadata": {},
   "outputs": [
    {
     "name": "stdout",
     "output_type": "stream",
     "text": [
      "[{u'status': u'canceled', u'is_udacity': True, u'is_canceled': True, u'join_date': datetime.date(2015, 1, 10), u'account_key': u'1304', u'cancel_date': datetime.date(2015, 3, 10), u'days_to_cancel': 59}, {u'status': u'canceled', u'is_udacity': True, u'is_canceled': True, u'join_date': datetime.date(2015, 3, 10), u'account_key': u'1304', u'cancel_date': datetime.date(2015, 6, 17), u'days_to_cancel': 99}, {u'status': u'current', u'is_udacity': True, u'is_canceled': False, u'join_date': datetime.date(2015, 2, 25), u'account_key': u'1101', u'cancel_date': None, u'days_to_cancel': ''}]\n"
     ]
    }
   ],
   "source": [
    "# Find students who enrolled but did not cancel so are not appearing in\n",
    "# engagement data\n",
    "\n",
    "# left_out = [enr for enr in enrollment_unique_stds if enr not in engagement_unique_stds]\n",
    "left_enrollments = []\n",
    "for enr in enrollments:\n",
    "    if enr['account_key'] not in engagement_unique_stds:\n",
    "        try:\n",
    "            days = int(enr['days_to_cancel'])\n",
    "            if days > 0:\n",
    "                left_enrollments.append(enr)\n",
    "        except:\n",
    "            left_enrollments.append(enr)\n",
    "print(left_enrollments)"
   ]
  },
  {
   "cell_type": "code",
   "execution_count": 9,
   "metadata": {},
   "outputs": [
    {
     "name": "stdout",
     "output_type": "stream",
     "text": [
      "6\n"
     ]
    }
   ],
   "source": [
    "# Find and remove all the udacity data accounts\n",
    "\n",
    "udacity_data_accounts = set()\n",
    "for enr in enrollments:\n",
    "    if enr['is_udacity'] is True:\n",
    "        udacity_data_accounts.add(enr['account_key'])\n",
    "        \n",
    "print(len(udacity_data_accounts))\n",
    "\n",
    "def non_udacity_data_only(list_data):\n",
    "    return_data = [data for data in list_data if data['account_key'] not in udacity_data_accounts]\n",
    "    return return_data\n",
    "\n",
    "non_udacity_enrollments = non_udacity_data_only(enrollments)\n",
    "non_udacity_daily_engagement = non_udacity_data_only(daily_engagement)\n",
    "non_udacity_project_submissions = non_udacity_data_only(project_submissions)\n",
    "# print 'enrollments', len(enrollments), len(non_udacity_enrollments)\n",
    "# print 'daily_engagement', len(daily_engagement), len(non_udacity_daily_engagement)\n",
    "# print 'project_submissions', len(project_submissions), len(non_udacity_project_submissions)"
   ]
  },
  {
   "cell_type": "code",
   "execution_count": 10,
   "metadata": {},
   "outputs": [
    {
     "name": "stdout",
     "output_type": "stream",
     "text": [
      "995\n"
     ]
    }
   ],
   "source": [
    "# Find students who stayed enrolled atleast 7 days\n",
    "\n",
    "paid_students = {}\n",
    "for enr in non_udacity_enrollments:\n",
    "    if enr['days_to_cancel'] is None or enr['days_to_cancel'] > 7:\n",
    "        key = enr['account_key']\n",
    "        value = enr['join_date']\n",
    "        if key not in paid_students or value > paid_students.get(key):\n",
    "            paid_students[key] = value\n",
    "print(len(paid_students))"
   ]
  },
  {
   "cell_type": "code",
   "execution_count": 11,
   "metadata": {},
   "outputs": [
    {
     "name": "stdout",
     "output_type": "stream",
     "text": [
      "paid_enrollments 1293\n",
      "paid_engagements 134549\n",
      "paid_submissions 3618\n",
      "paid engagements within one week 6919\n"
     ]
    }
   ],
   "source": [
    "# Find paid students within one week of their enrollment\n",
    "\n",
    "def check_within_one_week(join_date, engagement_date):\n",
    "    diff_date = engagement_date - join_date\n",
    "    return diff_date.days < 7 and diff_date.days >= 0\n",
    "\n",
    "def check_free_trial_cancels(list_data):\n",
    "    new_data = []\n",
    "    for item in list_data:\n",
    "        if paid_students.get(item['account_key']):\n",
    "            new_data.append(item)\n",
    "    return new_data\n",
    "\n",
    "paid_engagements = check_free_trial_cancels(non_udacity_daily_engagement)\n",
    "paid_submissions = check_free_trial_cancels(non_udacity_project_submissions)\n",
    "paid_enrollments = check_free_trial_cancels(non_udacity_enrollments)\n",
    "\n",
    "print 'paid_enrollments', len(paid_enrollments)\n",
    "print 'paid_engagements', len(paid_engagements)\n",
    "print 'paid_submissions', len(paid_submissions)\n",
    "\n",
    "for stud in paid_engagements:\n",
    "    if stud['num_courses_visited'] > 0:\n",
    "        stud['has_visited'] = 1\n",
    "    else:\n",
    "        stud['has_visited'] = 0\n",
    "\n",
    "\n",
    "paid_students_engagement_list = []\n",
    "for eng in paid_engagements:\n",
    "    if check_within_one_week(paid_students[eng['account_key']], eng['utc_date']):\n",
    "        paid_students_engagement_list.append(eng)\n",
    "print 'paid engagements within one week', len(paid_students_engagement_list)"
   ]
  },
  {
   "cell_type": "code",
   "execution_count": 12,
   "metadata": {},
   "outputs": [],
   "source": [
    "# group data by specific key\n",
    "# eg: create dictionary with key as account_key and value as list of\n",
    "# all data containing that account key\n",
    "\n",
    "from collections import defaultdict\n",
    "\n",
    "def group_by(data, key_name):\n",
    "    grouped_data= defaultdict(list)\n",
    "    for std in data:\n",
    "        key = std[key_name]\n",
    "        grouped_data[key].append(std)\n",
    "    return grouped_data\n",
    "\n",
    "engagement_by_account = group_by(paid_students_engagement_list, 'account_key')"
   ]
  },
  {
   "cell_type": "code",
   "execution_count": 13,
   "metadata": {},
   "outputs": [],
   "source": [
    "# sum grouped data by specific key\n",
    "# eg: sum values of total_minutes_visited of each list\n",
    "# grouped by account_key\n",
    "\n",
    "def sum_grouped_items(data, key_name):\n",
    "    summed_data = {}\n",
    "    for key, value in data.items():\n",
    "        total = 0\n",
    "        for item in value:\n",
    "            total += item[key_name]\n",
    "        summed_data[key] = total\n",
    "    return summed_data\n",
    "\n",
    "total_minutes_by_account = sum_grouped_items(engagement_by_account, 'total_minutes_visited')"
   ]
  },
  {
   "cell_type": "code",
   "execution_count": 14,
   "metadata": {},
   "outputs": [
    {
     "name": "stdout",
     "output_type": "stream",
     "text": [
      "mean:  306.708326753\n",
      "standard deviation:  412.996933409\n",
      "min:  0.0\n",
      "max:  3564.7332645\n"
     ]
    },
    {
     "data": {
      "image/png": "[encoded data removed]",
      "text/plain": [
       "<matplotlib.figure.Figure at 0x7f4ac0fc77d0>"
      ]
     },
     "metadata": {},
     "output_type": "display_data"
    }
   ],
   "source": [
    "# find average, mean, std, min, max value of the summed data\n",
    "\n",
    "# average_minutes_by_account = {}\n",
    "# for account_key, total_minutes in total_minutes_by_account.items():\n",
    "#     average_min = total_minutes / len(engagement_by_account[account_key])\n",
    "#     average_minutes_by_account[account_key] = average_min\n",
    "import numpy as np\n",
    "%matplotlib inline\n",
    "import matplotlib.pyplot as plt\n",
    "import seaborn as sns\n",
    "\n",
    "def describe_data(data):\n",
    "    print 'mean: ', np.mean(data)\n",
    "    print 'standard deviation: ', np.std(data)\n",
    "    print 'min: ', np.min(data)\n",
    "    print 'max: ', np.max(data)\n",
    "    plt.hist(data)\n",
    "\n",
    "total_minutes = total_minutes_by_account.values()\n",
    "describe_data(total_minutes)\n"
   ]
  },
  {
   "cell_type": "code",
   "execution_count": 15,
   "metadata": {},
   "outputs": [
    {
     "name": "stdout",
     "output_type": "stream",
     "text": [
      "3564.7332645\n",
      "{u'lessons_completed': 4, u'num_courses_visited': 4, 'has_visited': 1, u'total_minutes_visited': 850.519339666, u'projects_completed': 0, 'account_key': u'163', u'utc_date': datetime.date(2015, 7, 9)}\n",
      "{u'lessons_completed': 6, u'num_courses_visited': 6, 'has_visited': 1, u'total_minutes_visited': 872.633923334, u'projects_completed': 0, 'account_key': u'163', u'utc_date': datetime.date(2015, 7, 10)}\n",
      "{u'lessons_completed': 6, u'num_courses_visited': 2, 'has_visited': 1, u'total_minutes_visited': 777.018903666, u'projects_completed': 0, 'account_key': u'163', u'utc_date': datetime.date(2015, 7, 11)}\n",
      "{u'lessons_completed': 2, u'num_courses_visited': 1, 'has_visited': 1, u'total_minutes_visited': 294.568774, u'projects_completed': 0, 'account_key': u'163', u'utc_date': datetime.date(2015, 7, 12)}\n",
      "{u'lessons_completed': 1, u'num_courses_visited': 3, 'has_visited': 1, u'total_minutes_visited': 471.2139785, u'projects_completed': 0, 'account_key': u'163', u'utc_date': datetime.date(2015, 7, 13)}\n",
      "{u'lessons_completed': 1, u'num_courses_visited': 2, 'has_visited': 1, u'total_minutes_visited': 298.778345333, u'projects_completed': 0, 'account_key': u'163', u'utc_date': datetime.date(2015, 7, 14)}\n",
      "{u'lessons_completed': 0, u'num_courses_visited': 0, 'has_visited': 0, u'total_minutes_visited': 0.0, u'projects_completed': 0, 'account_key': u'163', u'utc_date': datetime.date(2015, 7, 15)}\n"
     ]
    }
   ],
   "source": [
    "# find the engagement record of student who spend max no of minutes\n",
    "\n",
    "max_minutes = 0\n",
    "student_with_max_minute = None\n",
    "for account_key, total_minutes in total_minutes_by_account.items():\n",
    "    if total_minutes > max_minutes:\n",
    "        max_minutes = total_minutes\n",
    "        student_with_max_minute = account_key\n",
    "        \n",
    "print max_minutes\n",
    "for data in paid_students_engagement_list:\n",
    "    if data['account_key'] == student_with_max_minute:\n",
    "        print data"
   ]
  },
  {
   "cell_type": "code",
   "execution_count": 16,
   "metadata": {},
   "outputs": [
    {
     "name": "stdout",
     "output_type": "stream",
     "text": [
      "mean:  1.63618090452\n",
      "standard deviation:  3.00256129983\n",
      "min:  0\n",
      "max:  36\n"
     ]
    },
    {
     "data": {
      "image/png": "[encoded data removed]",
      "text/plain": [
       "<matplotlib.figure.Figure at 0x7f4abf62d590>"
      ]
     },
     "metadata": {},
     "output_type": "display_data"
    }
   ],
   "source": [
    "lessons_complete_by_account = sum_grouped_items(engagement_by_account, 'lessons_completed')\n",
    "total_lessons = lessons_complete_by_account.values()\n",
    "describe_data(total_lessons)"
   ]
  },
  {
   "cell_type": "code",
   "execution_count": 17,
   "metadata": {},
   "outputs": [
    {
     "name": "stdout",
     "output_type": "stream",
     "text": [
      "mean:  2.86733668342\n",
      "standard deviation:  2.25519800292\n",
      "min:  0\n",
      "max:  7\n"
     ]
    },
    {
     "data": {
      "image/png": "[encoded data removed]",
      "text/plain": [
       "<matplotlib.figure.Figure at 0x7f4ac1702650>"
      ]
     },
     "metadata": {},
     "output_type": "display_data"
    }
   ],
   "source": [
    "total_visits_by_account = sum_grouped_items(engagement_by_account, 'has_visited')\n",
    "describe_data(total_visits_by_account.values())"
   ]
  },
  {
   "cell_type": "code",
   "execution_count": 18,
   "metadata": {},
   "outputs": [
    {
     "name": "stdout",
     "output_type": "stream",
     "text": [
      "('passed_students_num: ', 647)\n",
      "('passing engagement length: ', 4527)\n",
      "('non passing engagement length: ', 2392)\n"
     ]
    }
   ],
   "source": [
    "# find the students who pass the project and who do not pass the project\n",
    "# find the engaged students who pass the project and who do not\n",
    "\n",
    "subway_project_lesson_keys = ['746169184', '3176718735']\n",
    "passed_remarks = ['PASSED', 'DISTINCTION']\n",
    "passed_account_list = set()\n",
    "for sub in paid_submissions:\n",
    "    if sub['lesson_key'] in subway_project_lesson_keys and sub['assigned_rating'] in passed_remarks:\n",
    "        passed_account_list.add(sub['account_key'])\n",
    "\n",
    "print ('passed_students_num: ', len(passed_account_list))\n",
    "\n",
    "passing_engagement = []\n",
    "non_passing_engagement = []\n",
    "\n",
    "for eng in paid_students_engagement_list:\n",
    "    if eng['account_key'] in passed_account_list:\n",
    "        passing_engagement.append(eng)\n",
    "    else:\n",
    "        non_passing_engagement.append(eng)\n",
    "        \n",
    "print ('passing engagement length: ', len(passing_engagement))\n",
    "print ('non passing engagement length: ', len(non_passing_engagement))"
   ]
  },
  {
   "cell_type": "code",
   "execution_count": 20,
   "metadata": {},
   "outputs": [
    {
     "name": "stdout",
     "output_type": "stream",
     "text": [
      "mean:  394.586046484\n",
      "standard deviation:  448.499519327\n",
      "min:  0.0\n",
      "max:  3564.7332645\n",
      "('passing engagement description: ', None)\n",
      "mean:  143.326474267\n",
      "standard deviation:  269.538619011\n",
      "min:  0.0\n",
      "max:  1768.52274933\n",
      "('non_passing_engagement_description: ', None)\n"
     ]
    },
    {
     "data": {
      "image/png": "[encoded data removed]",
      "text/plain": [
       "<matplotlib.figure.Figure at 0x7f4ac15d6f50>"
      ]
     },
     "metadata": {},
     "output_type": "display_data"
    }
   ],
   "source": [
    "# results of data who pass the engagement and who do not\n",
    "# total_minutes_by_account\n",
    "\n",
    "passing_engagement_by_account = group_by(passing_engagement, 'account_key')\n",
    "non_passing_engagement_by_account = group_by(non_passing_engagement, 'account_key')\n",
    "\n",
    "total_minutes_by_account_passing_engagement = sum_grouped_items(\n",
    "    passing_engagement_by_account, 'total_minutes_visited')\n",
    "total_minutes_by_account_non_passing_engagement = sum_grouped_items(\n",
    "    non_passing_engagement_by_account, 'total_minutes_visited')\n",
    "\n",
    "print ('passing engagement description: ', describe_data(total_minutes_by_account_passing_engagement.values()))\n",
    "print ('non_passing_engagement_description: ', describe_data(total_minutes_by_account_non_passing_engagement.values()))"
   ]
  },
  {
   "cell_type": "code",
   "execution_count": 21,
   "metadata": {},
   "outputs": [
    {
     "name": "stdout",
     "output_type": "stream",
     "text": [
      "passing engagement description:\n",
      "mean:  2.05255023184\n",
      "standard deviation:  3.14222705558\n",
      "min:  0\n",
      "max:  36\n",
      "non_passing_engagement_description:\n",
      "mean:  0.862068965517\n",
      "standard deviation:  2.54915994183\n",
      "min:  0\n",
      "max:  27\n"
     ]
    },
    {
     "data": {
      "image/png": "[encoded data removed]",
      "text/plain": [
       "<matplotlib.figure.Figure at 0x7f4ac1aa3450>"
      ]
     },
     "metadata": {},
     "output_type": "display_data"
    }
   ],
   "source": [
    "# results of data who pass the engagement and who do not\n",
    "# total_lessons_by_account\n",
    "\n",
    "total_lessons_by_account_passing_engagement = sum_grouped_items(\n",
    "    passing_engagement_by_account, 'lessons_completed')\n",
    "total_lessons_by_account_non_passing_engagement = sum_grouped_items(\n",
    "    non_passing_engagement_by_account, 'lessons_completed')\n",
    "\n",
    "print 'passing engagement description:'\n",
    "describe_data(total_lessons_by_account_passing_engagement.values())\n",
    "\n",
    "print 'non_passing_engagement_description:'\n",
    "describe_data(total_lessons_by_account_non_passing_engagement.values())"
   ]
  },
  {
   "cell_type": "code",
   "execution_count": 22,
   "metadata": {},
   "outputs": [
    {
     "name": "stdout",
     "output_type": "stream",
     "text": [
      "passing engagement description:\n",
      "mean:  3.38485316847\n",
      "standard deviation:  2.25882147092\n",
      "min:  0\n",
      "max:  7\n",
      "non_passing_engagement_description:\n",
      "mean:  1.90517241379\n",
      "standard deviation:  1.90573144136\n",
      "min:  0\n",
      "max:  7\n"
     ]
    },
    {
     "data": {
      "image/png": "[encoded data removed]",
      "text/plain": [
       "<matplotlib.figure.Figure at 0x7f4ac06c4d10>"
      ]
     },
     "metadata": {},
     "output_type": "display_data"
    }
   ],
   "source": [
    "# results of data who pass the engagement and who do not\n",
    "# total_days_visited_by_account\n",
    "\n",
    "total_days_visited_by_account_passing_engagement = sum_grouped_items(\n",
    "    passing_engagement_by_account, 'has_visited')\n",
    "total_days_visited_by_account_non_passing_engagement = sum_grouped_items(\n",
    "    non_passing_engagement_by_account, 'has_visited')\n",
    "\n",
    "print 'passing engagement description:'\n",
    "describe_data(total_days_visited_by_account_passing_engagement.values())\n",
    "\n",
    "print 'non_passing_engagement_description:'\n",
    "describe_data(total_days_visited_by_account_non_passing_engagement.values())"
   ]
  },
  {
   "cell_type": "code",
   "execution_count": 1,
   "metadata": {},
   "outputs": [],
   "source": []
  }
 ],
 "metadata": {
  "kernelspec": {
   "display_name": "Python 3",
   "language": "python",
   "name": "python3"
  },
  "language_info": {
   "codemirror_mode": {
    "name": "ipython",
    "version": 3
   },
   "file_extension": ".py",
   "mimetype": "text/x-python",
   "name": "python",
   "nbconvert_exporter": "python",
   "pygments_lexer": "ipython3",
   "version": "3.6.7"
  }
 },
 "nbformat": 4,
 "nbformat_minor": 1
}
